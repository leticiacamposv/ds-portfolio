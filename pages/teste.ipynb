{
 "cells": [
  {
   "cell_type": "code",
   "execution_count": 1,
   "metadata": {},
   "outputs": [],
   "source": [
    "import os"
   ]
  },
  {
   "cell_type": "code",
   "execution_count": 11,
   "metadata": {},
   "outputs": [
    {
     "data": {
      "text/plain": [
       "['AlgoritmoClassificacaoML.jpg',\n",
       " 'ClusteringML.jpg',\n",
       " 'DataCleaningWrangling.jpg',\n",
       " 'EstatisticaPython.jpg',\n",
       " 'ExcelComplete.jpg',\n",
       " 'MachineLearningCloudServices.jpg',\n",
       " 'ManualPraticoDeepLearning.jpg',\n",
       " 'mini',\n",
       " 'PowerBI.jpeg',\n",
       " 'PythonPower.png',\n",
       " 'RaioXOO.png',\n",
       " 'ReactDjangoFullStack.jpg',\n",
       " 'RegressaoML.jpg',\n",
       " 'Scrum.jpg',\n",
       " 'SQL.jpg']"
      ]
     },
     "execution_count": 11,
     "metadata": {},
     "output_type": "execute_result"
    }
   ],
   "source": [
    "[f for f in os.listdir(\"../assets/certs/\")]"
   ]
  }
 ],
 "metadata": {
  "kernelspec": {
   "display_name": ".venv",
   "language": "python",
   "name": "python3"
  },
  "language_info": {
   "codemirror_mode": {
    "name": "ipython",
    "version": 3
   },
   "file_extension": ".py",
   "mimetype": "text/x-python",
   "name": "python",
   "nbconvert_exporter": "python",
   "pygments_lexer": "ipython3",
   "version": "3.9.2"
  },
  "orig_nbformat": 4
 },
 "nbformat": 4,
 "nbformat_minor": 2
}
